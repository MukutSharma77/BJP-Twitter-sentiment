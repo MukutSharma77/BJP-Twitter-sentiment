{
 "cells": [
  {
   "cell_type": "code",
   "execution_count": 1,
   "metadata": {},
   "outputs": [],
   "source": [
    "import numpy as np\n",
    "import matplotlib.pyplot as plt\n",
    "import pandas as pd"
   ]
  },
  {
   "cell_type": "code",
   "execution_count": null,
   "metadata": {},
   "outputs": [],
   "source": []
  },
  {
   "cell_type": "code",
   "execution_count": 2,
   "metadata": {},
   "outputs": [],
   "source": [
    "tweets = pd.read_csv('bjp_tweets .csv',names=['Tweet','Sentiment'])"
   ]
  },
  {
   "cell_type": "code",
   "execution_count": 3,
   "metadata": {},
   "outputs": [],
   "source": [
    "# Cleaning the text\n",
    "import re\n",
    "import nltk\n",
    "from nltk.corpus import stopwords\n",
    "from nltk.stem.porter import PorterStemmer"
   ]
  },
  {
   "cell_type": "markdown",
   "metadata": {},
   "source": [
    "Removing links , Hashtags, etc from tweets"
   ]
  },
  {
   "cell_type": "code",
   "execution_count": 4,
   "metadata": {},
   "outputs": [
    {
     "name": "stderr",
     "output_type": "stream",
     "text": [
      "<ipython-input-4-5a0063e35cea>:9: SettingWithCopyWarning: \n",
      "A value is trying to be set on a copy of a slice from a DataFrame\n",
      "\n",
      "See the caveats in the documentation: https://pandas.pydata.org/pandas-docs/stable/user_guide/indexing.html#returning-a-view-versus-a-copy\n",
      "  tweets['Tweet'][i] = clean_tweet\n"
     ]
    }
   ],
   "source": [
    "for i,row in tweets.iterrows():\n",
    "    words = tweets['Tweet'][i].split()\n",
    "    words_clean = [w for w in words if 'http' not in w\n",
    "                   and not w.startswith('@')\n",
    "                   and not w.startswith('#')\n",
    "                   and not w.endswith('.com')\n",
    "                   and w != 'RT']\n",
    "    clean_tweet = ' '.join(words_clean)\n",
    "    tweets['Tweet'][i] = clean_tweet"
   ]
  },
  {
   "cell_type": "code",
   "execution_count": 5,
   "metadata": {},
   "outputs": [
    {
     "name": "stdout",
     "output_type": "stream",
     "text": [
      "                                               Tweet  Sentiment\n",
      "0  The way you support Congress, looks like out o...          0\n",
      "1  Earlier today BJP National President Shri addr...          0\n",
      "2  Scathing! \"EC decision on AAP office of profit...          0\n",
      "3  Spoke about how Govt's transformational reform...          0\n",
      "4  The appeal of the Congress in the state rests ...          0\n"
     ]
    }
   ],
   "source": [
    "print(tweets.head())"
   ]
  },
  {
   "cell_type": "code",
   "execution_count": 6,
   "metadata": {},
   "outputs": [],
   "source": [
    "rem_index = []\n",
    "for index, row in tweets.iterrows():\n",
    "    t = re.sub('[^a-zA-Z]',' ',tweets['Tweet'][index])\n",
    "    t = t.split()\n",
    "    if len(t) < 4:\n",
    "        rem_index.append(index)\n",
    "tweets.drop(rem_index,inplace=True)\n",
    "tweets.reset_index(drop=True, inplace=True)"
   ]
  },
  {
   "cell_type": "code",
   "execution_count": 7,
   "metadata": {},
   "outputs": [
    {
     "name": "stderr",
     "output_type": "stream",
     "text": [
      "[nltk_data] Downloading package stopwords to\n",
      "[nltk_data]     C:\\Users\\hi\\AppData\\Roaming\\nltk_data...\n",
      "[nltk_data]   Package stopwords is already up-to-date!\n"
     ]
    },
    {
     "data": {
      "text/plain": [
       "True"
      ]
     },
     "execution_count": 7,
     "metadata": {},
     "output_type": "execute_result"
    }
   ],
   "source": [
    "import nltk\n",
    "nltk.download('stopwords')"
   ]
  },
  {
   "cell_type": "code",
   "execution_count": 8,
   "metadata": {},
   "outputs": [
    {
     "data": {
      "text/plain": [
       "0       None\n",
       "1       None\n",
       "2       None\n",
       "3       None\n",
       "4       None\n",
       "        ... \n",
       "2557    None\n",
       "2558    None\n",
       "2559    None\n",
       "2560    None\n",
       "2561    None\n",
       "Name: Tweet, Length: 2562, dtype: object"
      ]
     },
     "execution_count": 8,
     "metadata": {},
     "output_type": "execute_result"
    }
   ],
   "source": [
    "corpus = []\n",
    "\n",
    "def clean_tweet(row):\n",
    "    tweet = re.sub('[^a-zA-Z]',' ', row)\n",
    "    tweet = tweet.lower()\n",
    "    tweet = tweet.split()\n",
    "    ps = PorterStemmer()\n",
    "    tweet = [ps.stem(word) for word in tweet if not word in set(stopwords.words('english'))\n",
    "    and len(word)>=3]\n",
    "    tweet = ' '.join(tweet)\n",
    "    corpus.append(tweet)\n",
    "    \n",
    "tweets['Tweet'].apply(clean_tweet)"
   ]
  },
  {
   "cell_type": "code",
   "execution_count": 9,
   "metadata": {},
   "outputs": [
    {
     "name": "stdout",
     "output_type": "stream",
     "text": [
      "0\n"
     ]
    }
   ],
   "source": [
    "# Checking for empty tweets\n",
    "count = 0\n",
    "for tweet in corpus:\n",
    "    t = tweet.split()\n",
    "    if len(t) == 0:\n",
    "        count += 1\n",
    "\n",
    "print(count)"
   ]
  },
  {
   "cell_type": "code",
   "execution_count": 10,
   "metadata": {},
   "outputs": [
    {
     "name": "stdout",
     "output_type": "stream",
     "text": [
      "Requirement already satisfied: textblob in c:\\users\\hi\\anaconda3\\lib\\site-packages (0.17.1)\n",
      "Requirement already satisfied: nltk>=3.1 in c:\\users\\hi\\anaconda3\\lib\\site-packages (from textblob) (3.6.1)\n",
      "Requirement already satisfied: click in c:\\users\\hi\\anaconda3\\lib\\site-packages (from nltk>=3.1->textblob) (7.1.2)\n",
      "Requirement already satisfied: regex in c:\\users\\hi\\anaconda3\\lib\\site-packages (from nltk>=3.1->textblob) (2021.4.4)\n",
      "Requirement already satisfied: tqdm in c:\\users\\hi\\anaconda3\\lib\\site-packages (from nltk>=3.1->textblob) (4.59.0)\n",
      "Requirement already satisfied: joblib in c:\\users\\hi\\anaconda3\\lib\\site-packages (from nltk>=3.1->textblob) (1.0.1)\n"
     ]
    }
   ],
   "source": [
    "!pip install textblob"
   ]
  },
  {
   "cell_type": "markdown",
   "metadata": {},
   "source": [
    "Sentiment analysis using textblob"
   ]
  },
  {
   "cell_type": "code",
   "execution_count": 11,
   "metadata": {},
   "outputs": [],
   "source": [
    "from textblob import TextBlob\n",
    "\n",
    "sentiments = []\n",
    "\n",
    "for tweet in corpus:\n",
    "    analysis = TextBlob(tweet)\n",
    "    pol = analysis.sentiment.polarity\n",
    "    sent = 0\n",
    "    if pol > 0:\n",
    "        sent = 1\n",
    "    elif pol < 0:\n",
    "        sent = -1\n",
    "    sentiments.append(sent)"
   ]
  },
  {
   "cell_type": "code",
   "execution_count": 12,
   "metadata": {},
   "outputs": [
    {
     "name": "stdout",
     "output_type": "stream",
     "text": [
      "Percentage of positive tweets: 29.70335675253708%\n",
      "Percentage of neutral tweets: 53.005464480874316%\n",
      "Percentage de negative tweets: 17.2911787665886%\n"
     ]
    }
   ],
   "source": [
    "tweets['Sentiment'] = sentiments\n",
    "\n",
    "sentiment_counts = tweets['Sentiment'].value_counts()\n",
    "\n",
    "pos_count = sentiment_counts[1]\n",
    "neg_count = sentiment_counts[-1]\n",
    "neut_count = sentiment_counts[0]\n",
    "\n",
    "# We print percentages:\n",
    "\n",
    "print(\"Percentage of positive tweets: {}%\".format((pos_count*100)/len(tweets['Tweet'])))\n",
    "print(\"Percentage of neutral tweets: {}%\".format((neut_count*100)/len(tweets['Tweet'])))\n",
    "print(\"Percentage de negative tweets: {}%\".format((neg_count*100)/len(tweets['Tweet'])))"
   ]
  },
  {
   "cell_type": "code",
   "execution_count": null,
   "metadata": {},
   "outputs": [],
   "source": []
  }
 ],
 "metadata": {
  "kernelspec": {
   "display_name": "Python 3",
   "language": "python",
   "name": "python3"
  },
  "language_info": {
   "codemirror_mode": {
    "name": "ipython",
    "version": 3
   },
   "file_extension": ".py",
   "mimetype": "text/x-python",
   "name": "python",
   "nbconvert_exporter": "python",
   "pygments_lexer": "ipython3",
   "version": "3.8.8"
  }
 },
 "nbformat": 4,
 "nbformat_minor": 2
}
